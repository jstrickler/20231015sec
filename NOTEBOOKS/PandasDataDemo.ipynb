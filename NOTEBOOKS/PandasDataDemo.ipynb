{
 "cells": [
  {
   "cell_type": "markdown",
   "id": "d8e1be94-9d95-498a-b556-c41a46d15cc1",
   "metadata": {},
   "source": [
    "# Pandas data demo"
   ]
  },
  {
   "cell_type": "code",
   "execution_count": 2,
   "id": "4068fdf4-7d9e-47e0-957a-05e1e4b17a8f",
   "metadata": {
    "tags": []
   },
   "outputs": [],
   "source": [
    "# %load imports\n",
    "import numpy as np\n",
    "import scipy as sp\n",
    "import pandas as pd\n",
    "import matplotlib.pyplot as plt\n",
    "import matplotlib as mpl\n",
    "%matplotlib inline\n",
    "import seaborn as sns\n",
    "sns.set()\n",
    "\n"
   ]
  },
  {
   "cell_type": "markdown",
   "id": "66dd9de9-a1c1-4fec-8068-3fa597030721",
   "metadata": {},
   "source": [
    "## Working with floats"
   ]
  },
  {
   "cell_type": "markdown",
   "id": "10cb038e-82f2-4375-b26a-8f9635628735",
   "metadata": {},
   "source": [
    "### make a dataframe"
   ]
  },
  {
   "cell_type": "code",
   "execution_count": 7,
   "id": "6a3679e0-6637-4e85-a50a-265309914f08",
   "metadata": {
    "tags": []
   },
   "outputs": [],
   "source": [
    "df = pd.DataFrame([\n",
    "    [.1, .2],\n",
    "    [.30939293, .3923884745747],\n",
    "])"
   ]
  },
  {
   "cell_type": "markdown",
   "id": "e1e50d57-8acf-4ef7-8c18-7c37671fa4ba",
   "metadata": {},
   "source": [
    "### display the dataframe\n",
    "By default, pandas only shows 6 digits of precision"
   ]
  },
  {
   "cell_type": "code",
   "execution_count": 4,
   "id": "7d94702d-a356-4725-bfb5-3aeb088bd04c",
   "metadata": {
    "tags": []
   },
   "outputs": [
    {
     "data": {
      "text/html": [
       "<div>\n",
       "<style scoped>\n",
       "    .dataframe tbody tr th:only-of-type {\n",
       "        vertical-align: middle;\n",
       "    }\n",
       "\n",
       "    .dataframe tbody tr th {\n",
       "        vertical-align: top;\n",
       "    }\n",
       "\n",
       "    .dataframe thead th {\n",
       "        text-align: right;\n",
       "    }\n",
       "</style>\n",
       "<table border=\"1\" class=\"dataframe\">\n",
       "  <thead>\n",
       "    <tr style=\"text-align: right;\">\n",
       "      <th></th>\n",
       "      <th>0</th>\n",
       "      <th>1</th>\n",
       "    </tr>\n",
       "  </thead>\n",
       "  <tbody>\n",
       "    <tr>\n",
       "      <th>0</th>\n",
       "      <td>0.100000</td>\n",
       "      <td>0.200000</td>\n",
       "    </tr>\n",
       "    <tr>\n",
       "      <th>1</th>\n",
       "      <td>0.309393</td>\n",
       "      <td>0.392388</td>\n",
       "    </tr>\n",
       "  </tbody>\n",
       "</table>\n",
       "</div>"
      ],
      "text/plain": [
       "          0         1\n",
       "0  0.100000  0.200000\n",
       "1  0.309393  0.392388"
      ]
     },
     "execution_count": 4,
     "metadata": {},
     "output_type": "execute_result"
    }
   ],
   "source": [
    "df"
   ]
  },
  {
   "cell_type": "markdown",
   "id": "2383ad2a-be64-4c5e-8de6-503cd8b01b14",
   "metadata": {},
   "source": [
    "### The values retain their precision\n",
    "The retain full precision"
   ]
  },
  {
   "cell_type": "code",
   "execution_count": 18,
   "id": "491101ee-ae0a-4661-8d63-2c6425c2da59",
   "metadata": {
    "tags": []
   },
   "outputs": [
    {
     "data": {
      "text/plain": [
       "0.3923884745747"
      ]
     },
     "execution_count": 18,
     "metadata": {},
     "output_type": "execute_result"
    }
   ],
   "source": [
    "df.loc[1,1]"
   ]
  },
  {
   "cell_type": "markdown",
   "id": "333b2cd2-06af-419d-9017-61e6d4f19e28",
   "metadata": {},
   "source": [
    "### Change the display precision"
   ]
  },
  {
   "cell_type": "code",
   "execution_count": 6,
   "id": "6c52ac6f-629e-4f84-9a25-6bbd4f2d0b64",
   "metadata": {
    "tags": []
   },
   "outputs": [
    {
     "data": {
      "text/html": [
       "<div>\n",
       "<style scoped>\n",
       "    .dataframe tbody tr th:only-of-type {\n",
       "        vertical-align: middle;\n",
       "    }\n",
       "\n",
       "    .dataframe tbody tr th {\n",
       "        vertical-align: top;\n",
       "    }\n",
       "\n",
       "    .dataframe thead th {\n",
       "        text-align: right;\n",
       "    }\n",
       "</style>\n",
       "<table border=\"1\" class=\"dataframe\">\n",
       "  <thead>\n",
       "    <tr style=\"text-align: right;\">\n",
       "      <th></th>\n",
       "      <th>0</th>\n",
       "      <th>1</th>\n",
       "    </tr>\n",
       "  </thead>\n",
       "  <tbody>\n",
       "    <tr>\n",
       "      <th>0</th>\n",
       "      <td>0.10000000</td>\n",
       "      <td>0.2000000000000</td>\n",
       "    </tr>\n",
       "    <tr>\n",
       "      <th>1</th>\n",
       "      <td>0.30939293</td>\n",
       "      <td>0.3923884745747</td>\n",
       "    </tr>\n",
       "  </tbody>\n",
       "</table>\n",
       "</div>"
      ],
      "text/plain": [
       "            0                1\n",
       "0  0.10000000  0.2000000000000\n",
       "1  0.30939293  0.3923884745747"
      ]
     },
     "execution_count": 6,
     "metadata": {},
     "output_type": "execute_result"
    }
   ],
   "source": [
    "pd.set_option(\"display.precision\", 14)\n",
    "df"
   ]
  },
  {
   "cell_type": "markdown",
   "id": "779ab529-c33f-4357-9ea6-a99d43a3ae6b",
   "metadata": {},
   "source": [
    "### Floats work like you expect\n",
    ".1 + .2 does equal .3"
   ]
  },
  {
   "cell_type": "code",
   "execution_count": 13,
   "id": "71fd6eea-3406-4ed3-9456-e86a4f1f1662",
   "metadata": {
    "tags": []
   },
   "outputs": [
    {
     "data": {
      "text/html": [
       "<div>\n",
       "<style scoped>\n",
       "    .dataframe tbody tr th:only-of-type {\n",
       "        vertical-align: middle;\n",
       "    }\n",
       "\n",
       "    .dataframe tbody tr th {\n",
       "        vertical-align: top;\n",
       "    }\n",
       "\n",
       "    .dataframe thead th {\n",
       "        text-align: right;\n",
       "    }\n",
       "</style>\n",
       "<table border=\"1\" class=\"dataframe\">\n",
       "  <thead>\n",
       "    <tr style=\"text-align: right;\">\n",
       "      <th></th>\n",
       "      <th>0</th>\n",
       "      <th>1</th>\n",
       "      <th>2</th>\n",
       "    </tr>\n",
       "  </thead>\n",
       "  <tbody>\n",
       "    <tr>\n",
       "      <th>0</th>\n",
       "      <td>0.100000</td>\n",
       "      <td>0.200000</td>\n",
       "      <td>0.300000</td>\n",
       "    </tr>\n",
       "    <tr>\n",
       "      <th>1</th>\n",
       "      <td>0.309393</td>\n",
       "      <td>0.392388</td>\n",
       "      <td>0.701781</td>\n",
       "    </tr>\n",
       "  </tbody>\n",
       "</table>\n",
       "</div>"
      ],
      "text/plain": [
       "          0         1         2\n",
       "0  0.100000  0.200000  0.300000\n",
       "1  0.309393  0.392388  0.701781"
      ]
     },
     "execution_count": 13,
     "metadata": {},
     "output_type": "execute_result"
    }
   ],
   "source": [
    "df[2] = df[0] + df[1]\n",
    "df"
   ]
  },
  {
   "cell_type": "code",
   "execution_count": 19,
   "id": "76f19190-0234-45fb-8a1a-ff3f1b6abd84",
   "metadata": {
    "tags": []
   },
   "outputs": [
    {
     "data": {
      "text/plain": [
       "0.7017814045747"
      ]
     },
     "execution_count": 19,
     "metadata": {},
     "output_type": "execute_result"
    }
   ],
   "source": [
    "df.loc[1,2]"
   ]
  },
  {
   "cell_type": "markdown",
   "id": "bb534f3a-24d1-429b-b97e-398b24d6796e",
   "metadata": {},
   "source": [
    "### Data types for each column"
   ]
  },
  {
   "cell_type": "code",
   "execution_count": 17,
   "id": "55948a4c-e1b4-4818-95f9-7a0335a17bcd",
   "metadata": {
    "tags": []
   },
   "outputs": [
    {
     "data": {
      "text/plain": [
       "0    float64\n",
       "1    float64\n",
       "2    float64\n",
       "dtype: object"
      ]
     },
     "execution_count": 17,
     "metadata": {},
     "output_type": "execute_result"
    }
   ],
   "source": [
    "df.dtypes"
   ]
  },
  {
   "cell_type": "markdown",
   "id": "751aed32-793d-407e-9d71-78e781594ef7",
   "metadata": {},
   "source": [
    "## Working with nanoseconds\n",
    "The pandas.Timestamp class supports nanoseconds. It is interchangeable, in general, with normal Python datetime.datetime."
   ]
  },
  {
   "cell_type": "code",
   "execution_count": 17,
   "id": "4c897bf0-a629-4f7e-a094-3b19cf415176",
   "metadata": {
    "tags": []
   },
   "outputs": [
    {
     "name": "stdout",
     "output_type": "stream",
     "text": [
      "355\n"
     ]
    }
   ],
   "source": [
    "event1 = pd.Timestamp(2023, 10, 19, 10, 52, 23, 454, nanosecond=355)\n",
    "print(event1.nanosecond)"
   ]
  },
  {
   "cell_type": "code",
   "execution_count": 18,
   "id": "455b8a9c-db82-4f70-8ec5-a87f4fe26dad",
   "metadata": {
    "tags": []
   },
   "outputs": [
    {
     "data": {
      "text/plain": [
       "Timestamp('2023-10-19 10:52:23.000454355')"
      ]
     },
     "execution_count": 18,
     "metadata": {},
     "output_type": "execute_result"
    }
   ],
   "source": [
    "event1"
   ]
  },
  {
   "cell_type": "code",
   "execution_count": 19,
   "id": "7f731f94-97c7-4db2-b6b6-e1d9f001c51a",
   "metadata": {
    "tags": []
   },
   "outputs": [
    {
     "data": {
      "text/plain": [
       "Timestamp('2023-10-19 10:52:23.000454752')"
      ]
     },
     "execution_count": 19,
     "metadata": {},
     "output_type": "execute_result"
    }
   ],
   "source": [
    "event2 = pd.Timestamp(2023, 10, 19, 10, 52, 23, 454, nanosecond=752)\n",
    "event2"
   ]
  },
  {
   "cell_type": "code",
   "execution_count": 26,
   "id": "6e1004eb-d1a9-42f0-9142-2e91ce76256e",
   "metadata": {
    "tags": []
   },
   "outputs": [
    {
     "data": {
      "text/plain": [
       "Timedelta('0 days 00:00:00.000000397')"
      ]
     },
     "execution_count": 26,
     "metadata": {},
     "output_type": "execute_result"
    }
   ],
   "source": [
    "diff = event2 - event1\n",
    "diff"
   ]
  },
  {
   "cell_type": "code",
   "execution_count": 27,
   "id": "49098643-b852-44ec-a088-e74e726ab5ed",
   "metadata": {
    "tags": []
   },
   "outputs": [
    {
     "data": {
      "text/plain": [
       "397"
      ]
     },
     "execution_count": 27,
     "metadata": {},
     "output_type": "execute_result"
    }
   ],
   "source": [
    "diff.nanoseconds"
   ]
  },
  {
   "cell_type": "code",
   "execution_count": null,
   "id": "08adab0a-609d-43ad-80b9-a87130c4729a",
   "metadata": {},
   "outputs": [],
   "source": []
  }
 ],
 "metadata": {
  "kernelspec": {
   "display_name": "Python 3 (ipykernel)",
   "language": "python",
   "name": "python3"
  },
  "language_info": {
   "codemirror_mode": {
    "name": "ipython",
    "version": 3
   },
   "file_extension": ".py",
   "mimetype": "text/x-python",
   "name": "python",
   "nbconvert_exporter": "python",
   "pygments_lexer": "ipython3",
   "version": "3.11.5"
  }
 },
 "nbformat": 4,
 "nbformat_minor": 5
}
